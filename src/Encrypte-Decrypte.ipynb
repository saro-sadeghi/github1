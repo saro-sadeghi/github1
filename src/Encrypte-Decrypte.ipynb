{
 "cells": [
  {
   "cell_type": "code",
   "execution_count": 1,
   "metadata": {},
   "outputs": [
    {
     "name": "stderr",
     "output_type": "stream",
     "text": [
      "c:\\Users\\DELL\\AppData\\Local\\Programs\\Python\\Python312\\Lib\\site-packages\\pydub\\utils.py:170: RuntimeWarning: Couldn't find ffmpeg or avconv - defaulting to ffmpeg, but may not work\n",
      "  warn(\"Couldn't find ffmpeg or avconv - defaulting to ffmpeg, but may not work\", RuntimeWarning)\n"
     ]
    }
   ],
   "source": [
    "from pydub import AudioSegment\n",
    "from cryptography.hazmat.primitives.ciphers import Cipher, algorithms, modes\n",
    "from cryptography.hazmat.primitives import padding\n",
    "from cryptography.hazmat.backends import default_backend\n",
    "import os\n",
    "import wave\n"
   ]
  },
  {
   "cell_type": "markdown",
   "metadata": {},
   "source": [
    "$$\n",
    "\\mathbf{D}_{\\text{padded}} = \\mathbf{D} \\parallel \\left( \\frac{b - (|\\mathbf{D}| \\mod b)}{b} \\right)\n",
    "$$\n",
    "$$\n",
    "\\mathbf{IV} = \\text{Random}(16)\n",
    "$$\n",
    "$$\n",
    "\\mathbf{C} = \\text{AES}_{\\text{CBC}}(\\mathbf{K}, \\mathbf{IV}, \\mathbf{D}_{\\text{padded}})\n",
    "$$\n",
    "$$\n",
    "\\mathbf{C}_{\\text{final}} = \\mathbf{IV} \\parallel \\mathbf{C}\n",
    "$$\n"
   ]
  },
  {
   "cell_type": "code",
   "execution_count": 3,
   "metadata": {},
   "outputs": [],
   "source": [
    "# This function reads an audio file and returns its raw data, sampling rate, sample width, and number of channels.\n",
    "def read_audio_file(file_path):\n",
    "    audio = AudioSegment.from_file(file_path)\n",
    "    return audio.raw_data, audio.frame_rate, audio.sample_width, audio.channels\n",
    "\n",
    "def encrypt_audio(audio_data, key):\n",
    "    # Creating a random initial vector (IV) 16 bytes long\n",
    "    iv = os.urandom(16)\n",
    "    # Creating a cryptographic object using the AES algorithm and CBC mode.\n",
    "    cipher = Cipher(algorithms.AES(key), modes.CBC(iv), backend=default_backend())\n",
    "    # Create a padding object to add padding to the data.\n",
    "    encryptor = cipher.encryptor()\n",
    "    # Add padding to voice data.\n",
    "    padder = padding.PKCS7(algorithms.AES.block_size).padder()\n",
    "    padded_data = padder.update(audio_data) + padder.finalize()\n",
    "    encrypted_data = encryptor.update(padded_data) + encryptor.finalize()\n",
    "    return iv + encrypted_data\n",
    "\n",
    "def save_as_wav(file_path, audio_data, frame_rate, sample_width, channels):\n",
    "    with wave.open(file_path, 'wb') as wf:\n",
    "        wf.setnchannels(channels)\n",
    "        wf.setsampwidth(sample_width)\n",
    "        wf.setframerate(frame_rate)\n",
    "        wf.writeframes(audio_data)\n",
    "\n",
    "def save_key(file_path, key):\n",
    "    with open(file_path, 'wb') as key_file:\n",
    "        key_file.write(key)\n",
    "\n",
    "\n",
    "audio_data, frame_rate, sample_width, channels = read_audio_file('voice.wav')\n",
    "\n",
    "# generate key\n",
    "key = os.urandom(32)\n",
    "\n",
    "# encrypt audio\n",
    "encrypted_audio = encrypt_audio(audio_data, key)\n",
    "\n",
    "save_as_wav('encrypted_audio.wav', encrypted_audio, frame_rate, sample_width, channels)\n",
    "\n",
    "save_key('encryption_key.key', key)\n"
   ]
  },
  {
   "cell_type": "code",
   "execution_count": 4,
   "metadata": {},
   "outputs": [],
   "source": [
    "from cryptography.hazmat.primitives.ciphers import Cipher, algorithms, modes\n",
    "from cryptography.hazmat.primitives import padding\n",
    "from cryptography.hazmat.backends import default_backend\n",
    "import wave\n",
    "from pydub import AudioSegment\n",
    "\n",
    "def decrypt_audio(encrypted_audio, key):\n",
    "    iv = encrypted_audio[:16]\n",
    "    encrypted_data = encrypted_audio[16:]\n",
    "    \n",
    "    cipher = Cipher(algorithms.AES(key), modes.CBC(iv), backend=default_backend())\n",
    "    decryptor = cipher.decryptor()\n",
    "    \n",
    "    decrypted_padded_data = decryptor.update(encrypted_data) + decryptor.finalize()\n",
    "    \n",
    "    unpadder = padding.PKCS7(algorithms.AES.block_size).unpadder()\n",
    "    audio_data = unpadder.update(decrypted_padded_data) + unpadder.finalize()\n",
    "    \n",
    "    return audio_data\n",
    "\n",
    "def load_key(file_path):\n",
    "    with open(file_path, 'rb') as key_file:\n",
    "        return key_file.read()\n",
    "\n",
    "def load_wav(file_path):\n",
    "    with wave.open(file_path, 'rb') as wf:\n",
    "        n_channels = wf.getnchannels()\n",
    "        sampwidth = wf.getsampwidth()\n",
    "        framerate = wf.getframerate()\n",
    "        frames = wf.readframes(wf.getnframes())\n",
    "    return frames, framerate, sampwidth, n_channels\n",
    "\n",
    "\n",
    "encrypted_audio, frame_rate, sample_width, channels = load_wav('encrypted_audio.wav')\n",
    "\n",
    "key = load_key('encryption_key.key')\n",
    "\n",
    "decrypted_audio = decrypt_audio(encrypted_audio, key)\n",
    "\n",
    "def write_audio_file(file_path, audio_data, sample_width, frame_rate, channels):\n",
    "    audio = AudioSegment(\n",
    "        data=audio_data,\n",
    "        sample_width=sample_width,\n",
    "        frame_rate=frame_rate,\n",
    "        channels=channels\n",
    "    )\n",
    "    audio.export(file_path, format='wav')\n",
    "\n",
    "write_audio_file('decrypted_audio.wav', decrypted_audio, sample_width, frame_rate, channels)\n"
   ]
  }
 ],
 "metadata": {
  "kernelspec": {
   "display_name": "Python 3",
   "language": "python",
   "name": "python3"
  },
  "language_info": {
   "codemirror_mode": {
    "name": "ipython",
    "version": 3
   },
   "file_extension": ".py",
   "mimetype": "text/x-python",
   "name": "python",
   "nbconvert_exporter": "python",
   "pygments_lexer": "ipython3",
   "version": "3.12.0"
  }
 },
 "nbformat": 4,
 "nbformat_minor": 2
}
